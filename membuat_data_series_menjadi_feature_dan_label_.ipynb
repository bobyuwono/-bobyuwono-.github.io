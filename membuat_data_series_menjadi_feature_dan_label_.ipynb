{
  "nbformat": 4,
  "nbformat_minor": 0,
  "metadata": {
    "colab": {
      "name": "membuat data series menjadi feature dan label .ipynb",
      "provenance": [],
      "authorship_tag": "ABX9TyOYinqreoqYVFgfahg/DMGK",
      "include_colab_link": true
    },
    "kernelspec": {
      "name": "python3",
      "display_name": "Python 3"
    }
  },
  "cells": [
    {
      "cell_type": "markdown",
      "metadata": {
        "id": "view-in-github",
        "colab_type": "text"
      },
      "source": [
        "<a href=\"https://colab.research.google.com/github/bobyuwono/-bobyuwono-.github.io/blob/master/membuat_data_series_menjadi_feature_dan_label_.ipynb\" target=\"_parent\"><img src=\"https://colab.research.google.com/assets/colab-badge.svg\" alt=\"Open In Colab\"/></a>"
      ]
    },
    {
      "cell_type": "code",
      "metadata": {
        "id": "creU-Q44Xm1f",
        "colab_type": "code",
        "colab": {
          "base_uri": "https://localhost:8080/",
          "height": 35
        },
        "outputId": "53fe99e3-2007-4542-d9cf-6555e2276a7f"
      },
      "source": [
        "import tensorflow as tf\n",
        "import numpy as np\n",
        "import matplotlib.pyplot as plt\n",
        "print(tf.__version__)"
      ],
      "execution_count": 15,
      "outputs": [
        {
          "output_type": "stream",
          "text": [
            "2.2.0\n"
          ],
          "name": "stdout"
        }
      ]
    },
    {
      "cell_type": "code",
      "metadata": {
        "id": "oeeJvFvgXwHP",
        "colab_type": "code",
        "colab": {
          "base_uri": "https://localhost:8080/",
          "height": 121
        },
        "outputId": "e87d6717-0fee-4435-e9cf-967e30f3fda8"
      },
      "source": [
        "dataset = tf.data.Dataset.range(10)\n",
        "dataset = dataset.window(5, shift=1, drop_remainder=True)\n",
        "dataset = dataset.flat_map(lambda window: window.batch(5))\n",
        "for window in dataset:\n",
        "  print(window.numpy())\n"
      ],
      "execution_count": 24,
      "outputs": [
        {
          "output_type": "stream",
          "text": [
            "[0 1 2 3 4]\n",
            "[1 2 3 4 5]\n",
            "[2 3 4 5 6]\n",
            "[3 4 5 6 7]\n",
            "[4 5 6 7 8]\n",
            "[5 6 7 8 9]\n"
          ],
          "name": "stdout"
        }
      ]
    },
    {
      "cell_type": "markdown",
      "metadata": {
        "id": "Epbhw8UQZ_FV",
        "colab_type": "text"
      },
      "source": [
        "sekarang membagi data menjadi feature dan label\n",
        "dengan ide membagi array menjadi feature = array[ :-1] dan label = array[ -1]\n",
        "\n",
        "tidak lupa, setelah  dibagi, datanya di shuffle\n"
      ]
    },
    {
      "cell_type": "code",
      "metadata": {
        "id": "UjyPsquUZ9-T",
        "colab_type": "code",
        "colab": {
          "base_uri": "https://localhost:8080/",
          "height": 121
        },
        "outputId": "a7b6d980-24e4-46a7-9a5f-29328bed6170"
      },
      "source": [
        "dataset = tf.data.Dataset.range(10)\n",
        "dataset = dataset.window(5, shift=1, drop_remainder=True)\n",
        "dataset = dataset.flat_map(lambda window: window.batch(5))\n",
        "\n",
        "#dibagi\n",
        "dataset = dataset.map(lambda window: (window[:-1], window[-1:]))\n",
        "\n",
        "#shuffle dulu\n",
        "buffer_size_for_shuffling = 10\n",
        "dataset = dataset.shuffle(    buffer_size=buffer_size_for_shuffling, seed=None, reshuffle_each_iteration=None )\n",
        "for x,y in dataset:\n",
        "  print(x.numpy(), y.numpy())\n",
        "  \n"
      ],
      "execution_count": 26,
      "outputs": [
        {
          "output_type": "stream",
          "text": [
            "[4 5 6 7] [8]\n",
            "[0 1 2 3] [4]\n",
            "[5 6 7 8] [9]\n",
            "[1 2 3 4] [5]\n",
            "[3 4 5 6] [7]\n",
            "[2 3 4 5] [6]\n"
          ],
          "name": "stdout"
        }
      ]
    },
    {
      "cell_type": "markdown",
      "metadata": {
        "id": "IxfmFZs4fY9-",
        "colab_type": "text"
      },
      "source": [
        "buat dataset menjadi 2 batch untuk setiap value"
      ]
    },
    {
      "cell_type": "code",
      "metadata": {
        "id": "16EcKfFRfdOx",
        "colab_type": "code",
        "colab": {
          "base_uri": "https://localhost:8080/",
          "height": 225
        },
        "outputId": "0ed1fd1c-fd64-4921-e428-94cddf59c6f5"
      },
      "source": [
        "dataset = tf.data.Dataset.range(10)\n",
        "dataset = dataset.window(5, shift=1, drop_remainder=True)\n",
        "dataset = dataset.flat_map(lambda window: window.batch(5))\n",
        "\n",
        "#dibagi\n",
        "dataset = dataset.map(lambda window: (window[:-1], window[-1:]))\n",
        "\n",
        "#shuffle dulu\n",
        "buffer_size_for_shuffling = 10\n",
        "dataset = dataset.shuffle(    buffer_size=buffer_size_for_shuffling, seed=None, reshuffle_each_iteration=None )\n",
        "\n",
        "dataset = dataset.batch(2).prefetch(1)\n",
        "for x,y in dataset:\n",
        "  print(\"x= \", x.numpy())\n",
        "  print(\"y= \", y.numpy())"
      ],
      "execution_count": 27,
      "outputs": [
        {
          "output_type": "stream",
          "text": [
            "x=  [[0 1 2 3]\n",
            " [3 4 5 6]]\n",
            "y=  [[4]\n",
            " [7]]\n",
            "x=  [[1 2 3 4]\n",
            " [4 5 6 7]]\n",
            "y=  [[5]\n",
            " [8]]\n",
            "x=  [[5 6 7 8]\n",
            " [2 3 4 5]]\n",
            "y=  [[9]\n",
            " [6]]\n"
          ],
          "name": "stdout"
        }
      ]
    },
    {
      "cell_type": "code",
      "metadata": {
        "id": "qeqQsDCLhPxi",
        "colab_type": "code",
        "colab": {}
      },
      "source": [
        " \n",
        "  "
      ],
      "execution_count": 0,
      "outputs": []
    }
  ]
}